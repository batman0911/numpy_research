{
 "cells": [
  {
   "cell_type": "markdown",
   "source": [
    "ex1: Viết chương trình nhập vào số nguyên dương n từ bàn phím, kiểm tra xem n có phải là số\n",
    "siêu nguyên tố hay không?\n",
    "Số siêu nguyên tố là số nguyên tố mà khi bỏ 1 số tùy ý các chữ số bên phải của nó thì phần\n",
    "còn lại vẫn là số nguyên tố."
   ],
   "metadata": {
    "collapsed": false,
    "pycharm": {
     "name": "#%% md\n"
    }
   }
  },
  {
   "cell_type": "code",
   "execution_count": 12,
   "metadata": {
    "collapsed": true,
    "pycharm": {
     "name": "#%%\n"
    }
   },
   "outputs": [
    {
     "name": "stdout",
     "output_type": "stream",
     "text": [
      "start loop rm_end 4\n",
      "check false 4\n"
     ]
    },
    {
     "data": {
      "text/plain": "False"
     },
     "execution_count": 12,
     "metadata": {},
     "output_type": "execute_result"
    }
   ],
   "source": [
    "import math\n",
    "\n",
    "\n",
    "def check(x):\n",
    "    if x == 2:\n",
    "        return True\n",
    "    for i in range(2, x):\n",
    "        if x % i == 0:\n",
    "            return False\n",
    "        return True\n",
    "\n",
    "\n",
    "n = int(input('nhap vao so nguyen n: '))\n",
    "\n",
    "\n",
    "def check_rm_end(n):\n",
    "    if not check(n):\n",
    "        return False\n",
    "    rm_end = n // 10\n",
    "    while rm_end > 0:\n",
    "        print('start loop rm_end', rm_end)\n",
    "        if not check(rm_end):\n",
    "            print('check false', rm_end)\n",
    "            return False\n",
    "        rm_end = rm_end // 10\n",
    "        print('update rm_end', rm_end)\n",
    "    return True\n",
    "\n",
    "\n",
    "check_rm_end(n)\n",
    "# print(check_rm_end(n))"
   ]
  },
  {
   "cell_type": "markdown",
   "source": [
    "ex2: Viết chương trình (Pitago.py) thực hiện việc nhập số nguyên n, liệt kê các số nguyên a, b, c\n",
    "trong đoạn [1, n] để bộ 3 (a, b, c) lập thành bộ Pitago.\n",
    "a, b, c được sắp theo thứ tự tăng dần (a <= b <= c), mỗi bộ trên 1 dòng theo mẫu"
   ],
   "metadata": {
    "collapsed": false,
    "pycharm": {
     "name": "#%% md\n"
    }
   }
  },
  {
   "cell_type": "code",
   "execution_count": 17,
   "outputs": [
    {
     "name": "stdout",
     "output_type": "stream",
     "text": [
      "(3, 4, 5)\n",
      "(5, 12, 13)\n",
      "(6, 8, 10)\n",
      "(7, 24, 25)\n",
      "(8, 15, 17)\n",
      "(9, 12, 15)\n",
      "(9, 40, 41)\n",
      "(10, 24, 26)\n",
      "(11, 60, 61)\n",
      "(12, 16, 20)\n",
      "(12, 35, 37)\n",
      "(13, 84, 85)\n",
      "(14, 48, 50)\n",
      "(15, 20, 25)\n",
      "(15, 36, 39)\n",
      "(16, 30, 34)\n",
      "(16, 63, 65)\n",
      "(18, 24, 30)\n",
      "(18, 80, 82)\n",
      "(20, 21, 29)\n",
      "(20, 48, 52)\n",
      "(21, 28, 35)\n",
      "(21, 72, 75)\n",
      "(24, 32, 40)\n",
      "(24, 45, 51)\n",
      "(24, 70, 74)\n",
      "(25, 60, 65)\n",
      "(27, 36, 45)\n",
      "(28, 45, 53)\n",
      "(28, 96, 100)\n",
      "(30, 40, 50)\n",
      "(30, 72, 78)\n",
      "(32, 60, 68)\n",
      "(33, 44, 55)\n",
      "(33, 56, 65)\n",
      "(35, 84, 91)\n",
      "(36, 48, 60)\n",
      "(36, 77, 85)\n",
      "(39, 52, 65)\n",
      "(39, 80, 89)\n",
      "(40, 42, 58)\n",
      "(40, 75, 85)\n",
      "(42, 56, 70)\n",
      "(45, 60, 75)\n",
      "(48, 55, 73)\n",
      "(48, 64, 80)\n",
      "(51, 68, 85)\n",
      "(54, 72, 90)\n",
      "(57, 76, 95)\n",
      "(60, 63, 87)\n",
      "(60, 80, 100)\n",
      "(65, 72, 97)\n"
     ]
    }
   ],
   "source": [
    "n = int(input('enter integer n: '))\n",
    "\n",
    "\n",
    "def find_pythagore(m):\n",
    "    result = []\n",
    "    for a in range(1, n + 1):\n",
    "        for b in range(a, n + 1):\n",
    "            for c in range(b, n + 1):\n",
    "                if a ** 2 + b ** 2 == c ** 2:\n",
    "                    result.append((a, b, c))\n",
    "    return result\n",
    "\n",
    "\n",
    "for rs in find_pythagore(n):\n",
    "    print(rs)"
   ],
   "metadata": {
    "collapsed": false,
    "pycharm": {
     "name": "#%%\n"
    }
   }
  },
  {
   "cell_type": "markdown",
   "source": [
    "ex3: Nhập 1 số n tương ứng số input, sau đó nhập tiếp n số trong khoảng [1,n], tìm các số trong\n",
    "khoảng [1,n] không xuất hiện"
   ],
   "metadata": {
    "collapsed": false,
    "pycharm": {
     "name": "#%% md\n"
    }
   }
  },
  {
   "cell_type": "code",
   "execution_count": 20,
   "outputs": [
    {
     "name": "stdout",
     "output_type": "stream",
     "text": [
      "[]\n"
     ]
    }
   ],
   "source": [
    "n = int(input('enter integer n: '))\n",
    "compare_lst = input('enter n number in range: ').split()\n",
    "\n",
    "for i in range(n):\n",
    "    compare_lst[i] = int(compare_lst[i])\n",
    "\n",
    "origin = list(range(1, n + 1))\n",
    "\n",
    "res = []\n",
    "for e in origin:\n",
    "    if not compare_lst.__contains__(e):\n",
    "        res.append(e)\n",
    "\n",
    "print(res)\n"
   ],
   "metadata": {
    "collapsed": false,
    "pycharm": {
     "name": "#%%\n"
    }
   }
  },
  {
   "cell_type": "markdown",
   "source": [
    "Bài 4\n",
    "Cho 1 array chứa các khoảng (intervals) trong đó\n",
    "intervals[i] = [starti, endi].\n",
    "Viết 1 function merge các khoảng bị overlap để trả ra 1 array chứa các khoảng không bị\n",
    "overlap với nhau mà vẫn cover được tất cả các khoảng ban đầu\n",
    "Điều kiện:\n",
    " 1 <= intervals.length <= 10 4\n",
    " intervals[i].length == 2\n",
    " 0 <= start i <= end i <= 10 4"
   ],
   "metadata": {
    "collapsed": false,
    "pycharm": {
     "name": "#%% md\n"
    }
   }
  },
  {
   "cell_type": "code",
   "execution_count": 42,
   "outputs": [
    {
     "name": "stdout",
     "output_type": "stream",
     "text": [
      "[[ 1  4]\n",
      " [ 3  5]\n",
      " [ 4 30]\n",
      " [10 20]\n",
      " [11 15]\n",
      " [16 30]\n",
      " [32 50]\n",
      " [48 51]]\n",
      "[[ 1 30]\n",
      " [32 51]]\n"
     ]
    }
   ],
   "source": [
    "import numpy as np\n",
    "\n",
    "my_lst = [[1, 4],\n",
    "          [3, 5],\n",
    "          [10, 20],\n",
    "          [4, 30],\n",
    "          [11, 15],\n",
    "          [16, 30],\n",
    "          [32, 50],\n",
    "          [48, 51]]\n",
    "\n",
    "mat = np.array(my_lst)\n",
    "\n",
    "mat = mat[mat[:, 0].argsort()]\n",
    "print(mat)\n",
    "\n",
    "res = np.array([[mat[0, 0], mat[0, 1]]])\n",
    "j = 0\n",
    "for i in range(len(mat) - 1):\n",
    "    if mat[i + 1, 0] <= res[j, 1]:\n",
    "        res[j, 1] = max(mat[i + 1, 1],res[j,1])\n",
    "    else:\n",
    "        res = np.vstack([res, mat[i + 1, :]])\n",
    "        j += 1\n",
    "\n",
    "print(res)"
   ],
   "metadata": {
    "collapsed": false,
    "pycharm": {
     "name": "#%%\n"
    }
   }
  },
  {
   "cell_type": "markdown",
   "source": [
    "Bài 7 Cho 1 dictionary gồm (a-z và khoảng trắng) và encode (mã hóa) của nó là số từ 0-26.\n",
    "{'a': 0, 'b': 1, 'c': 2, 'd': 3, 'e': 4, 'f': 5, 'g': 6, 'h': 7, 'i': 8, 'j': 9, 'k': 10, 'l': 11, 'm': 12, 'n': 13, 'o':\n",
    "14, 'p': 15, 'q': 16, 'r': 17, 's': 18, 't': 19, 'u': 20, 'v': 21, 'w': 22, 'x': 23, 'y': 24, 'z': 25, ' ': 26}\n",
    "Nếu các ký tự không có trong từ điển, được encode (mã hóa ) = -1\n",
    "Viết chương trình đọc file text(chú ý là file chỉ gồm 1 câu text) và trả về numpy array gồm\n",
    "các số tương ứng với các chữ cái tạo thành nó. Ví dụ nhập \"abc\" trả vê [0, 1, 2]"
   ],
   "metadata": {
    "collapsed": false,
    "pycharm": {
     "name": "#%% md\n"
    }
   }
  },
  {
   "cell_type": "code",
   "execution_count": 45,
   "outputs": [
    {
     "name": "stdout",
     "output_type": "stream",
     "text": [
      "hello dai ca Linh\n",
      "[ 7  4 11 11 14 26  3  0  8 26  2  0 26 -1  8 13  7]\n"
     ]
    }
   ],
   "source": [
    "import numpy as np\n",
    "def encode():\n",
    "    with open('test.txt') as f:\n",
    "        contents = f.read()\n",
    "        print(contents)\n",
    "    dict = {'a': 0, 'b': 1, 'c': 2, 'd': 3, 'e': 4, 'f': 5, 'g': 6, 'h': 7, 'i': 8, 'j': 9, 'k': 10, 'l': 11, 'm': 12, 'n': 13, 'o': 14, 'p': 15, 'q': 16, 'r': 17, 's': 18, 't': 19, 'u': 20, 'v': 21, 'w': 22, 'x': 23, 'y': 24, 'z': 25, ' ': 26}\n",
    "    a = np.array([], dtype= int)\n",
    "    for i in contents:\n",
    "        if i not in dict.keys():\n",
    "            a = np.append(a,[-1])\n",
    "        else:\n",
    "            a =np.append(a, [dict.get(i)])\n",
    "    return a\n",
    "arr = encode()\n",
    "print(arr,sep=',')"
   ],
   "metadata": {
    "collapsed": false,
    "pycharm": {
     "name": "#%%\n"
    }
   }
  },
  {
   "cell_type": "markdown",
   "source": [
    "Bài 10. Thay thế mảng a gồm các giá trị chẵn trong mảng từ 1 đến 51 bằng 2, nhưng không\n",
    "làm thay đổi mảng ban đầu bằng mảng b. In ra mảng b."
   ],
   "metadata": {
    "collapsed": false,
    "pycharm": {
     "name": "#%% md\n"
    }
   }
  },
  {
   "cell_type": "code",
   "execution_count": 47,
   "outputs": [
    {
     "name": "stdout",
     "output_type": "stream",
     "text": [
      "[ 1  2  3  2  5  2  7  2  9  2 11  2 13  2 15  2 17  2 19  2 21  2 23  2\n",
      " 25  2 27  2 29  2 31  2 33  2 35  2 37  2 39  2 41  2 43  2 45  2 47  2\n",
      " 49  2 51]\n"
     ]
    }
   ],
   "source": [
    "import numpy as np\n",
    "\n",
    "a = np.arange(1, 52)\n",
    "b = np.copy(a)\n",
    "\n",
    "b[b%2==0] = 2\n",
    "print(b)"
   ],
   "metadata": {
    "collapsed": false,
    "pycharm": {
     "name": "#%%\n"
    }
   }
  },
  {
   "cell_type": "markdown",
   "source": [
    "Bài 11. Đảo ngược mảng 2 chiều. Cho mảng 2 chiều arr thực hiện đảo ngược\n",
    "thứ tự của mảng 2 chiều. Đảo ngược thứ tự các cột, đảo ngược thứ tự các hàn tạo ra mảng c\n",
    "mới. In ra mảng c."
   ],
   "metadata": {
    "collapsed": false,
    "pycharm": {
     "name": "#%% md\n"
    }
   }
  },
  {
   "cell_type": "code",
   "execution_count": 51,
   "outputs": [
    {
     "name": "stdout",
     "output_type": "stream",
     "text": [
      "[[9 8 7]\n",
      " [6 5 4]\n",
      " [3 2 1]]\n"
     ]
    }
   ],
   "source": [
    "c = np.array([[1,2,3],\n",
    "              [4,5,6],\n",
    "              [7,8,9]])\n",
    "\n",
    "# flip both columns and rows\n",
    "# add param axis for column or row\n",
    "c = np.flip(c)\n",
    "\n",
    "print(c)"
   ],
   "metadata": {
    "collapsed": false,
    "pycharm": {
     "name": "#%%\n"
    }
   }
  },
  {
   "cell_type": "markdown",
   "source": [
    "Bài 12. Thay thế mảng a gồm các giá trị lẻ trong mảng từ 100 đến 200 bằng 0, nhưng không\n",
    "làm thay đổi mảng ban đầu bằng mảng b. In ra mảng b."
   ],
   "metadata": {
    "collapsed": false,
    "pycharm": {
     "name": "#%% md\n"
    }
   }
  },
  {
   "cell_type": "code",
   "execution_count": 52,
   "outputs": [
    {
     "name": "stdout",
     "output_type": "stream",
     "text": [
      "[100   0 102   0 104   0 106   0 108   0 110   0 112   0 114   0 116   0\n",
      " 118   0 120   0 122   0 124   0 126   0 128   0 130   0 132   0 134   0\n",
      " 136   0 138   0 140   0 142   0 144   0 146   0 148   0 150   0 152   0\n",
      " 154   0 156   0 158   0 160   0 162   0 164   0 166   0 168   0 170   0\n",
      " 172   0 174   0 176   0 178   0 180   0 182   0 184   0 186   0 188   0\n",
      " 190   0 192   0 194   0 196   0 198   0 200]\n"
     ]
    }
   ],
   "source": [
    "a = np.arange(100, 201)\n",
    "b = np.copy(a)\n",
    "b[b%2 == 1] = 0\n",
    "print(b)"
   ],
   "metadata": {
    "collapsed": false,
    "pycharm": {
     "name": "#%%\n"
    }
   }
  },
  {
   "cell_type": "markdown",
   "source": [
    "\n",
    "Bài 1: Tìm min của hàm  𝑓(𝑥)=𝑥^2−12𝑥+20"
   ],
   "metadata": {
    "collapsed": false,
    "pycharm": {
     "name": "#%% md\n"
    }
   }
  },
  {
   "cell_type": "code",
   "execution_count": 53,
   "outputs": [
    {
     "data": {
      "text/plain": "      fun: -15.9999999999999\n hess_inv: array([[0.49999997]])\n      jac: array([-9.53674316e-07])\n  message: 'Optimization terminated successfully.'\n     nfev: 8\n      nit: 3\n     njev: 4\n   status: 0\n  success: True\n        x: array([5.99999969])"
     },
     "execution_count": 53,
     "metadata": {},
     "output_type": "execute_result"
    }
   ],
   "source": [
    "from scipy.optimize import minimize\n",
    "\n",
    "def function(x):\n",
    "    return x**2 - 12*x + 20\n",
    "\n",
    "result_function = minimize(function, 0, method = 'BFGS')\n",
    "result_function"
   ],
   "metadata": {
    "collapsed": false,
    "pycharm": {
     "name": "#%%\n"
    }
   }
  },
  {
   "cell_type": "markdown",
   "source": [
    "Tìm min của hàm mục tiêu: $x_1^2 + x_1 x_2$\n",
    "với các ràng buộc:\n",
    "$$\\begin{cases} x_1^3 + x_1 x_2 = 100 \\\\ x_1^2 + x_2 \\geq 50 \\\\ -100 \\leq x_1, x_2 \\leq 100\n",
    "\\end{cases}$$"
   ],
   "metadata": {
    "collapsed": false,
    "pycharm": {
     "name": "#%% md\n"
    }
   }
  },
  {
   "cell_type": "code",
   "execution_count": 54,
   "outputs": [
    {
     "data": {
      "text/plain": "     fun: 96.00000027660178\n     jac: array([50.00000095,  2.        ])\n message: 'Optimization terminated successfully'\n    nfev: 32\n     nit: 10\n    njev: 10\n  status: 0\n success: True\n       x: array([ 1.99999997, 46.00000084])"
     },
     "execution_count": 54,
     "metadata": {},
     "output_type": "execute_result"
    }
   ],
   "source": [
    "def objective(x):\n",
    "    x1 = x[0]\n",
    "    x2 = x[1]\n",
    "    return x1**2 + x1*x2\n",
    "\n",
    "def equality_constraint(x):\n",
    "    x1 = x[0]\n",
    "    x2 = x[1]\n",
    "    return x1**3 + x1*x2 - 100\n",
    "\n",
    "def inequality_constraint(x):\n",
    "    x1 = x[0]\n",
    "    x2 = x[1]\n",
    "    return x1**2 + x2 - 50\n",
    "\n",
    "bounds_x1 = (-100, 100)\n",
    "bounds_x2 = (-100, 100)\n",
    "bounds = (bounds_x1, bounds_x2)\n",
    "\n",
    "constraint1 = {'type':'eq','fun':equality_constraint}\n",
    "constraint2 = {'type':'ineq','fun': inequality_constraint}\n",
    "constraint = [constraint1,constraint2]\n",
    "\n",
    "x0 = [1,1]\n",
    "\n",
    "result = minimize(objective, x0, method = 'SLSQP', bounds = bounds, constraints = constraint)\n",
    "\n",
    "result"
   ],
   "metadata": {
    "collapsed": false,
    "pycharm": {
     "name": "#%%\n"
    }
   }
  },
  {
   "cell_type": "markdown",
   "source": [],
   "metadata": {
    "collapsed": false,
    "pycharm": {
     "name": "#%% md\n"
    }
   }
  },
  {
   "cell_type": "code",
   "execution_count": 57,
   "outputs": [
    {
     "data": {
      "text/plain": "     fun: -5.999999999999998\n     jac: array([-1., -2.])\n message: 'Optimization terminated successfully'\n    nfev: 6\n     nit: 2\n    njev: 2\n  status: 0\n success: True\n       x: array([1.2, 2.4])"
     },
     "execution_count": 57,
     "metadata": {},
     "output_type": "execute_result"
    }
   ],
   "source": [
    "def function(x):\n",
    "    return -x[0] - 2*x[1]\n",
    "\n",
    "def ineq(x):\n",
    "    return 6 - x[0] - 2*x[1]\n",
    "\n",
    "bounds_x1 = (1,5)\n",
    "bounds_x2 = (1,5)\n",
    "bounds = (bounds_x1, bounds_x2)\n",
    "\n",
    "constraint = [{'type': 'ineq', 'fun': ineq}]\n",
    "x0 = [-2,2]\n",
    "result = minimize(function, x0, method='SLSQP', bounds=bounds, constraints=constraint)\n",
    "\n",
    "result"
   ],
   "metadata": {
    "collapsed": false,
    "pycharm": {
     "name": "#%%\n"
    }
   }
  },
  {
   "cell_type": "code",
   "execution_count": 58,
   "outputs": [
    {
     "data": {
      "text/plain": "     con: array([], dtype=float64)\n     fun: -6.0\n message: 'Optimization terminated successfully.'\n     nit: 3\n   slack: array([0.])\n  status: 0\n success: True\n       x: array([1. , 2.5])"
     },
     "execution_count": 58,
     "metadata": {},
     "output_type": "execute_result"
    }
   ],
   "source": [
    "from scipy import optimize\n",
    "\n",
    "optimize.linprog(\n",
    "    c = [-1, -2],\n",
    "    A_ub=[[1, 2]],\n",
    "    b_ub=[6],\n",
    "    bounds=(1, 5),\n",
    "    method='simplex'\n",
    ")"
   ],
   "metadata": {
    "collapsed": false,
    "pycharm": {
     "name": "#%%\n"
    }
   }
  }
 ],
 "metadata": {
  "kernelspec": {
   "display_name": "Python 3",
   "language": "python",
   "name": "python3"
  },
  "language_info": {
   "codemirror_mode": {
    "name": "ipython",
    "version": 2
   },
   "file_extension": ".py",
   "mimetype": "text/x-python",
   "name": "python",
   "nbconvert_exporter": "python",
   "pygments_lexer": "ipython2",
   "version": "2.7.6"
  }
 },
 "nbformat": 4,
 "nbformat_minor": 0
}