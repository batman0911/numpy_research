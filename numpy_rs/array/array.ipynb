{
 "cells": [
  {
   "cell_type": "code",
   "execution_count": 3,
   "metadata": {
    "collapsed": true
   },
   "outputs": [
    {
     "name": "stdout",
     "output_type": "stream",
     "text": [
      "<class 'numpy.ndarray'>\n",
      "1\n",
      "(3,)\n",
      "8\n",
      "3\n",
      "<memory at 0x7fe5d9017e80>\n"
     ]
    }
   ],
   "source": [
    "import numpy as np\n",
    "\n",
    "a: np.ndarray = np.array([1, 2, 3])\n",
    "print(type(a))\n",
    "print(a.ndim)\n",
    "print(a.shape)\n",
    "print(a.itemsize)\n",
    "print(a.size)\n",
    "print(a.data)"
   ]
  },
  {
   "cell_type": "code",
   "execution_count": 7,
   "outputs": [
    {
     "name": "stdout",
     "output_type": "stream",
     "text": [
      "2\n",
      "[[0 0 0 0 0]]\n"
     ]
    }
   ],
   "source": [
    "zeros = np.ndarray = np.zeros((1, 5), dtype=np.int16)\n",
    "print(zeros.itemsize)\n",
    "print(zeros)"
   ],
   "metadata": {
    "collapsed": false,
    "pycharm": {
     "name": "#%%\n"
    }
   }
  },
  {
   "cell_type": "code",
   "execution_count": 8,
   "outputs": [
    {
     "name": "stdout",
     "output_type": "stream",
     "text": [
      "4\n",
      "[[1 1 1]\n",
      " [1 1 1]]\n"
     ]
    }
   ],
   "source": [
    "ones = np.ndarray = np.ones((2, 3), dtype=np.int32)\n",
    "print(ones.itemsize)\n",
    "print(ones)"
   ],
   "metadata": {
    "collapsed": false,
    "pycharm": {
     "name": "#%%\n"
    }
   }
  },
  {
   "cell_type": "code",
   "execution_count": 9,
   "outputs": [
    {
     "name": "stdout",
     "output_type": "stream",
     "text": [
      "[10 12 14 16 18 20 22 24 26 28]\n"
     ]
    }
   ],
   "source": [
    "range_1: np.ndarray = np.arange(10, 30, 2)\n",
    "print(range_1)"
   ],
   "metadata": {
    "collapsed": false,
    "pycharm": {
     "name": "#%%\n"
    }
   }
  },
  {
   "cell_type": "code",
   "execution_count": 6,
   "outputs": [
    {
     "name": "stdout",
     "output_type": "stream",
     "text": [
      "[0.    0.625 1.25  1.875 2.5   3.125 3.75  4.375 5.   ]\n"
     ]
    }
   ],
   "source": [
    "range_2: np.ndarray = np.linspace(0, 5, 9)\n",
    "print(range_2)"
   ],
   "metadata": {
    "collapsed": false,
    "pycharm": {
     "name": "#%%\n"
    }
   }
  },
  {
   "cell_type": "code",
   "execution_count": 13,
   "outputs": [
    {
     "name": "stdout",
     "output_type": "stream",
     "text": [
      "[1 1 0 2]\n",
      "[ 2  6 16 15]\n"
     ]
    }
   ],
   "source": [
    "# basic operations in array -> apply to elements\n",
    "arr_1: np.ndarray = np.array([2, 3, 4, 5])\n",
    "arr_2: np.ndarray = np.array([1, 2, 4, 3])\n",
    "arr_3 = arr_1 - arr_2\n",
    "print(arr_3)\n",
    "\n",
    "arr_4 = arr_1 * arr_2\n",
    "print(arr_4)"
   ],
   "metadata": {
    "collapsed": false,
    "pycharm": {
     "name": "#%%\n"
    }
   }
  },
  {
   "cell_type": "code",
   "execution_count": 25,
   "outputs": [
    {
     "name": "stdout",
     "output_type": "stream",
     "text": [
      "[[3 0]\n",
      " [6 5]]\n",
      "[[6 5]\n",
      " [9 5]]\n",
      "[[6 5]\n",
      " [9 5]]\n"
     ]
    }
   ],
   "source": [
    "# matrix\n",
    "A: np.ndarray = np.array([[1, 1],\n",
    "              [2, 1]])\n",
    "B: np.ndarray = np.array([[3, 0],\n",
    "                [3, 5]])\n",
    "\n",
    "print(A * B)\n",
    "print(A@B)\n",
    "print(A.dot(B))"
   ],
   "metadata": {
    "collapsed": false,
    "pycharm": {
     "name": "#%%\n"
    }
   }
  },
  {
   "cell_type": "code",
   "execution_count": 40,
   "outputs": [
    {
     "name": "stdout",
     "output_type": "stream",
     "text": [
      "[[0.51182162 0.9504637  0.14415961]\n",
      " [0.94864945 0.31183145 0.42332645]]\n",
      "39\n",
      "[[88 53 29 37 26]\n",
      " [18 59 41 80 71]\n",
      " [ 3 76 45  1 71]]\n"
     ]
    }
   ],
   "source": [
    "# random\n",
    "rg = np.random.default_rng(1)\n",
    "a = rg.random((2, 3))\n",
    "print(a)\n",
    "\n",
    "b = np.random.randint(1, 100)\n",
    "print(b)\n",
    "\n",
    "c = np.random.randint(100, size=(3, 5))\n",
    "print(c)"
   ],
   "metadata": {
    "collapsed": false,
    "pycharm": {
     "name": "#%%\n"
    }
   }
  },
  {
   "cell_type": "code",
   "execution_count": null,
   "outputs": [],
   "source": [],
   "metadata": {
    "collapsed": false,
    "pycharm": {
     "name": "#%%\n"
    }
   }
  }
 ],
 "metadata": {
  "kernelspec": {
   "display_name": "Python 3",
   "language": "python",
   "name": "python3"
  },
  "language_info": {
   "codemirror_mode": {
    "name": "ipython",
    "version": 2
   },
   "file_extension": ".py",
   "mimetype": "text/x-python",
   "name": "python",
   "nbconvert_exporter": "python",
   "pygments_lexer": "ipython2",
   "version": "2.7.6"
  }
 },
 "nbformat": 4,
 "nbformat_minor": 0
}